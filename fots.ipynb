{
 "cells": [
  {
   "cell_type": "code",
   "execution_count": 1,
   "metadata": {},
   "outputs": [],
   "source": [
    "import numpy as np"
   ]
  },
  {
   "cell_type": "code",
   "execution_count": 96,
   "metadata": {},
   "outputs": [],
   "source": [
    "def autocoravariance_matrix(X, w, t, m = None, pad=0):\n",
    "    if m is None:\n",
    "        m = w\n",
    "    start = t - m + 1\n",
    "    gamma_t = np.zeros((w, w))\n",
    "    X_copy = X.copy()\n",
    "    pw = 0\n",
    "    if start < 0:\n",
    "        pw = -start\n",
    "        # padding with 0\n",
    "        X_copy = np.pad(X, pad_width=(pw, 0), constant_values=pad)\n",
    "    for tau in range(start-1, t):\n",
    "        s = tau + pw\n",
    "        gamma_t += np.outer(X_copy[s:s+w], X_copy[s:s+w])\n",
    "    return gamma_t"
   ]
  },
  {
   "cell_type": "code",
   "execution_count": 97,
   "metadata": {},
   "outputs": [],
   "source": [
    "def fots(X, Y, t = None, w = None, k=4, m=None, pad=0):\n",
    "    if w is None:\n",
    "        w = len(X) // 2\n",
    "    if t is None:\n",
    "        t = len(X) // 2\n",
    "    if t+w > len(X):\n",
    "        w = t\n",
    "    gamma_Xt = autocoravariance_matrix(X, w, t, m, pad)\n",
    "    gamma_Yt = autocoravariance_matrix(Y, w, t, m, pad)\n",
    "    _, eigVectorX = np.linalg.eigh(gamma_Xt)\n",
    "    _, eigVectorY = np.linalg.eigh(gamma_Yt)\n",
    "    k = min(k, min(eigVectorX.shape[1], eigVectorY.shape[1]))\n",
    "    return np.linalg.norm(eigVectorX[:,-k:] - eigVectorY[:,-k:], ord='fro')"
   ]
  },
  {
   "cell_type": "code",
   "execution_count": 91,
   "metadata": {},
   "outputs": [
    {
     "name": "stdout",
     "output_type": "stream",
     "text": [
      "[ 1 -1 -2 -1  1 -1 -2  1  1  1] \n",
      " [-1 -2  1 -2  1 -2 -2 -1 -2 -2]\n"
     ]
    },
    {
     "data": {
      "text/plain": [
       "array([[2., 1.],\n",
       "       [1., 5.]])"
      ]
     },
     "execution_count": 91,
     "metadata": {},
     "output_type": "execute_result"
    }
   ],
   "source": [
    "X = np.random.randint(-2, 2, 10)\n",
    "Y = np.random.randint(-2, 2, 10)\n",
    "print(X, '\\n', Y)\n",
    "autocoravariance_matrix(X, w=2, t=1)"
   ]
  },
  {
   "cell_type": "code",
   "execution_count": 101,
   "metadata": {},
   "outputs": [
    {
     "data": {
      "text/plain": [
       "2.8961322429729766"
      ]
     },
     "execution_count": 101,
     "metadata": {},
     "output_type": "execute_result"
    }
   ],
   "source": [
    "fots(X, Y)"
   ]
  },
  {
   "cell_type": "code",
   "execution_count": 102,
   "metadata": {},
   "outputs": [
    {
     "data": {
      "text/plain": [
       "6.164414002968976"
      ]
     },
     "execution_count": 102,
     "metadata": {},
     "output_type": "execute_result"
    }
   ],
   "source": [
    "np.linalg.norm(X-Y) # ED"
   ]
  }
 ],
 "metadata": {
  "kernelspec": {
   "display_name": "Python 3",
   "language": "python",
   "name": "python3"
  },
  "language_info": {
   "codemirror_mode": {
    "name": "ipython",
    "version": 3
   },
   "file_extension": ".py",
   "mimetype": "text/x-python",
   "name": "python",
   "nbconvert_exporter": "python",
   "pygments_lexer": "ipython3",
   "version": "3.8.2"
  }
 },
 "nbformat": 4,
 "nbformat_minor": 4
}
